{
 "cells": [
  {
   "metadata": {
    "ExecuteTime": {
     "end_time": "2024-12-19T02:52:16.298094Z",
     "start_time": "2024-12-19T02:45:25.197337Z"
    }
   },
   "cell_type": "code",
   "source": [
    "from sklearn.feature_extraction.text import CountVectorizer\n",
    "from sklearn.model_selection import train_test_split\n",
    "from sklearn.naive_bayes import MultinomialNB\n",
    "from sklearn.metrics import classification_report, accuracy_score\n",
    "import pandas as pd\n",
    "import nltk\n",
    "\n",
    "nltk.download('averaged_perceptron_tagger')\n",
    "\n",
    "# Function to apply POS tagging\n",
    "def text_to_pos_features(text):\n",
    "    \"\"\"\n",
    "    Convert text to Part-of-Speech (POS) tagged representation.\n",
    "    Args:\n",
    "        text (str): Input text.\n",
    "    Returns:\n",
    "        str: POS-tagged text.\n",
    "    \"\"\"\n",
    "    tokens = text.split()\n",
    "    pos_tags = nltk.pos_tag(tokens)  # Generate POS tags\n",
    "    return \" \".join([f\"{word}_{tag}\" for word, tag in pos_tags])\n",
    "\n",
    "# Load and preprocess data\n",
    "def load_and_preprocess(data_path):\n",
    "    \"\"\"\n",
    "    Load the dataset and preprocess it.\n",
    "    Args:\n",
    "        data_path (str): Path to the dataset CSV file.\n",
    "    Returns:\n",
    "        pd.DataFrame: Preprocessed dataset.\n",
    "    \"\"\"\n",
    "    data = pd.read_csv(data_path)\n",
    "    return data\n",
    "\n",
    "# Load the data\n",
    "data_path = \"../data/Russian/author_data.csv\"  # Replace with your dataset\n",
    "data = load_and_preprocess(data_path)\n",
    "\n",
    "# Split data into training and test sets\n",
    "X = data['text']\n",
    "y = data['author']\n",
    "\n",
    "X_train, X_test, y_train, y_test = train_test_split(X, y, test_size=0.2, random_state=42, stratify=y)\n",
    "\n",
    "# Apply POS tagging to train and test sets\n",
    "X_train_pos = X_train.apply(text_to_pos_features)\n",
    "X_test_pos = X_test.apply(text_to_pos_features)\n",
    "\n",
    "# Vectorize POS-tagged text\n",
    "vectorizer = CountVectorizer(ngram_range=(1, 3))\n",
    "X_train_vec = vectorizer.fit_transform(X_train_pos)\n",
    "X_test_vec = vectorizer.transform(X_test_pos)\n",
    "\n",
    "# Train the Naive Bayes model\n",
    "nb_model = MultinomialNB(alpha=1.0)\n",
    "nb_model.fit(X_train_vec, y_train)\n",
    "\n",
    "# Evaluate the model\n",
    "y_pred = nb_model.predict(X_test_vec)\n",
    "accuracy = accuracy_score(y_test, y_pred)\n",
    "print(f\"Accuracy: {accuracy:.2f}\")\n",
    "\n",
    "# Detailed classification report\n",
    "report = classification_report(y_test, y_pred)\n",
    "print(\"Classification Report:\")\n",
    "print(report)\n"
   ],
   "id": "c7fab5d5fccd5830",
   "outputs": [
    {
     "name": "stderr",
     "output_type": "stream",
     "text": [
      "[nltk_data] Downloading package averaged_perceptron_tagger to\n",
      "[nltk_data]     C:\\Users\\ASUS\\AppData\\Roaming\\nltk_data...\n",
      "[nltk_data]   Package averaged_perceptron_tagger is already up-to-\n",
      "[nltk_data]       date!\n"
     ]
    },
    {
     "name": "stdout",
     "output_type": "stream",
     "text": [
      "Accuracy: 0.82\n",
      "Classification Report:\n",
      "              precision    recall  f1-score   support\n",
      "\n",
      "   bulgakov        0.99      0.68      0.80      2789\n",
      "    chekhov        0.99      0.45      0.62      2599\n",
      "dostoevskiy        0.65      0.99      0.79      4362\n",
      "      gorky        0.94      0.87      0.90      3285\n",
      "    tolstoy        0.88      0.93      0.90      4253\n",
      "\n",
      "    accuracy                           0.82     17288\n",
      "   macro avg       0.89      0.78      0.80     17288\n",
      "weighted avg       0.87      0.82      0.82     17288\n",
      "\n"
     ]
    }
   ],
   "execution_count": 3
  },
  {
   "metadata": {
    "ExecuteTime": {
     "end_time": "2024-12-19T02:53:17.653797Z",
     "start_time": "2024-12-19T02:53:16.841254Z"
    }
   },
   "cell_type": "code",
   "source": [
    "# save the model to disk\n",
    "import pickle\n",
    "filename = 'finalized_model.sav'\n",
    "pickle.dump(nb_model, open(filename, 'wb'))"
   ],
   "id": "75322a1d5b05d94d",
   "outputs": [],
   "execution_count": 4
  },
  {
   "metadata": {
    "ExecuteTime": {
     "end_time": "2024-12-19T03:01:25.460019Z",
     "start_time": "2024-12-19T03:01:25.444971Z"
    }
   },
   "cell_type": "code",
   "source": [
    "import numpy as np\n",
    "import random\n",
    "\n",
    "def generate_text_from_author(nb_model, vectorizer, author, max_len=50, temperature=1.0):\n",
    "    \"\"\"\n",
    "    Generate text in the style of a given author using a trained Naive Bayes classifier.\n",
    "    Args:\n",
    "        nb_model: Trained Naive Bayes model.\n",
    "        vectorizer: Fitted CountVectorizer.\n",
    "        author (str): Author whose style to mimic.\n",
    "        max_len (int): Maximum length of the generated text.\n",
    "        temperature (float): Sampling temperature to control randomness.\n",
    "    Returns:\n",
    "        str: Generated text.\n",
    "    \"\"\"\n",
    "    if author not in nb_model.classes_:\n",
    "        raise ValueError(f\"Author '{author}' not found in the trained model.\")\n",
    "\n",
    "    # Get the index of the author\n",
    "    author_index = np.where(nb_model.classes_ == author)[0][0]\n",
    "\n",
    "    # Extract the word probabilities for the given author\n",
    "    word_probs = np.exp(nb_model.feature_log_prob_[author_index])  # Convert log probabilities to probabilities\n",
    "    word_probs /= np.sum(word_probs)  # Normalize probabilities\n",
    "\n",
    "    # Vocabulary from the vectorizer\n",
    "    vocab = vectorizer.get_feature_names_out()\n",
    "\n",
    "    # Start with a random seed word\n",
    "    generated_text = [random.choice(vocab)]\n",
    "\n",
    "    for _ in range(max_len - 1):\n",
    "        # Adjust probabilities with temperature\n",
    "        adjusted_probs = word_probs ** (1 / temperature)\n",
    "        adjusted_probs /= np.sum(adjusted_probs)\n",
    "\n",
    "        # Sample the next word\n",
    "        next_word = np.random.choice(vocab, p=adjusted_probs)\n",
    "\n",
    "        # Append to the generated text\n",
    "        generated_text.append(next_word)\n",
    "\n",
    "    return \" \".join(generated_text)"
   ],
   "id": "9ff42725b55410b0",
   "outputs": [],
   "execution_count": 5
  },
  {
   "metadata": {
    "ExecuteTime": {
     "end_time": "2024-12-19T03:33:36.519303Z",
     "start_time": "2024-12-19T03:33:27.428745Z"
    }
   },
   "cell_type": "code",
   "source": [
    "target_author = \"chekhov \"  # Replace with an actual author from your dataset\n",
    "generated_text = generate_text_from_author(nb_model, vectorizer, target_author, max_len=50, temperature=1.0)\n",
    "print(f\"Generated text in the style of {target_author}:\\n{generated_text}\")"
   ],
   "id": "6b45a3be9f50d224",
   "outputs": [
    {
     "name": "stdout",
     "output_type": "stream",
     "text": [
      "Generated text in the style of chekhov :\n",
      "2_cd мес _nnp подать _nnp только_nnp сергеевна_nnp и_nnp _nnp ему_nnp сопутствует_nnp находился_nnp степан_nnp _nnp настроение_nnp пьера был_nnp _nnp чтобы_nnp ждать_nn очевидно _nnp хотел_nnp говорил_nnp больше_nnp всех_nnp служат_nnp как_nnp наилучшей_nnp в_nnp сказал_nnp павлович_nnp карамазов_nnp на_nnp голове _nnp _nnp кашлять доме_nnp у_nnp ростовых здоровенных_nnp служанок_nnp казались_nnp ты_nnp мой_nnp злейший_nnp забора _nnp рабочие_nnp своею_nnp собственною_nnp волей_nnp стояли_nnp нагроможденные_nnp одна_nn прямых_nnp скобках_nnp на_nnp сейчас_nnp совершится_nnp на_nnp не_nnp обидной_nnp с_nn 16 присылали_nnp за_nnp дома_nnp забрались_nnp в_nnp квартиру_nnp петра_nnp университет_nnp и_nnp должен_nnp _nnp восклицает_nnp отчаянный не_nnp потерявший_nnp своей_nnp плодятся_nnp понемногу делалось_nnp не_nnp варвару _nnp поезде_nnp участка_nnp р_nnp запрыгал _nnp слово_nnp отлично_nnp рекомендованным_nnp жильцам постепенного_nnp счастье _nnp холодный _nnp хочешь мне_nnp мне_nnp маму_nnp _nnp обманщицы вас_nnp такой_nnp взялся собранию лидия_nnp по_nnp разным_nnp на_nnp штаны говоривших_nnp молчать_nnp _nnp безгрешная_nnp\n"
     ]
    }
   ],
   "execution_count": 22
  },
  {
   "metadata": {
    "ExecuteTime": {
     "end_time": "2024-12-19T03:23:48.377290Z",
     "start_time": "2024-12-19T03:23:48.266040Z"
    }
   },
   "cell_type": "code",
   "source": [
    "# Run classification on a new text\n",
    "new_text = \"В тусклом свете заката, среди руин старого города, он стоял, как призрак, обречённый на забвение. Его глаза, полные горя и отчаяния, рассказывали историю о потерянной любви и разрушенных мечтах. В этом мгновении время остановилось, и он, как символ страдания, стал вечным свидетелем человеческой печали.\"\n",
    "# Preprocess the new text by lowercasing and applying POS tagging\n",
    "new_text = new_text.lower()\n",
    "new_text_pos = text_to_pos_features(new_text)\n",
    "new_text_vec = vectorizer.transform([new_text_pos])\n",
    "\n",
    "# Predict the author of the new text\n",
    "predicted_author = nb_model.predict(new_text_vec)[0]\n",
    "print(f\"Predicted author of the new text: {predicted_author}\")"
   ],
   "id": "22aa74594aa91b",
   "outputs": [
    {
     "name": "stdout",
     "output_type": "stream",
     "text": [
      "Predicted author of the new text: tolstoy \n"
     ]
    }
   ],
   "execution_count": 14
  },
  {
   "metadata": {
    "ExecuteTime": {
     "end_time": "2024-12-19T03:36:36.939699Z",
     "start_time": "2024-12-19T03:36:36.934598Z"
    }
   },
   "cell_type": "code",
   "source": [
    "def parse_txt_file(file_path):\n",
    "    \"\"\"\n",
    "    Parse the structured text file to extract sentences and their corresponding authors.\n",
    "    Args:\n",
    "        file_path (str): Path to the text file.\n",
    "    Returns:\n",
    "        list of tuples: List of (sentence, author) pairs.\n",
    "    \"\"\"\n",
    "    data = []\n",
    "    current_author = None\n",
    "\n",
    "    with open(file_path, 'r', encoding='utf-8') as f:\n",
    "        for line in f:\n",
    "            line = line.strip()\n",
    "\n",
    "            # Match author headings\n",
    "            match = re.match(r\"Generating sentences for (.+) in Russian\", line)\n",
    "            if match:\n",
    "                current_author = match.group(1).strip()  # Strip any whitespace from author name\n",
    "                continue\n",
    "\n",
    "            # Add sentences with the current author\n",
    "            if current_author and line:\n",
    "                data.append((line, current_author))\n",
    "\n",
    "    return data\n"
   ],
   "id": "7ceeeb4d86c3cb84",
   "outputs": [],
   "execution_count": 23
  },
  {
   "metadata": {
    "ExecuteTime": {
     "end_time": "2024-12-19T03:36:38.391359Z",
     "start_time": "2024-12-19T03:36:38.220622Z"
    }
   },
   "cell_type": "code",
   "source": [
    "def map_true_labels(true_authors):\n",
    "    \"\"\"\n",
    "    Map true author names to the required format: 'last name + space' in lowercase.\n",
    "    Args:\n",
    "        true_authors (list): List of original author names.\n",
    "    Returns:\n",
    "        list: Mapped author names.\n",
    "    \"\"\"\n",
    "    # Define a mapping from full names to the required format\n",
    "    author_mapping = {\n",
    "        \"Leo Tolstoy\": \"tolstoy \",\n",
    "        \"Maxim Gorky\": \"gorky \",\n",
    "        \"Fyodor Dostoevskiy\": \"dostoevskiy \",\n",
    "        \"Anton Chekhov\": \"chekhov \",\n",
    "        \"Mikhail Bulgakov\": \"bulgakov \",\n",
    "    }\n",
    "\n",
    "    # Map each true author name\n",
    "    mapped_authors = [author_mapping.get(author.strip(), author.strip()) for author in true_authors]\n",
    "    return mapped_authors\n",
    "\n",
    "def evaluate_classifier(nb_model, vectorizer, parsed_data):\n",
    "    \"\"\"\n",
    "    Evaluate the classifier on parsed data.\n",
    "    Args:\n",
    "        nb_model: Trained Naive Bayes model.\n",
    "        vectorizer: Fitted CountVectorizer.\n",
    "        parsed_data (list): List of (sentence, author) pairs.\n",
    "    Returns:\n",
    "        None: Prints evaluation metrics.\n",
    "    \"\"\"\n",
    "    sentences, true_authors = zip(*parsed_data)\n",
    "\n",
    "    # Preprocess and vectorize the sentences\n",
    "    sentences = [sentence.lower() for sentence in sentences]\n",
    "    sentence_vectors = vectorizer.transform(sentences)\n",
    "\n",
    "    # Predict authors\n",
    "    predicted_authors = nb_model.predict(sentence_vectors)\n",
    "\n",
    "    # Map true authors to the required format\n",
    "    mapped_true_authors = map_true_labels(true_authors)\n",
    "\n",
    "    # Evaluate performance\n",
    "    accuracy = accuracy_score(mapped_true_authors, predicted_authors)\n",
    "    print(f\"Accuracy: {accuracy:.2f}\")\n",
    "\n",
    "    report = classification_report(mapped_true_authors, predicted_authors)\n",
    "    print(\"Classification Report:\")\n",
    "    print(report)\n",
    "\n",
    "# Example usage\n",
    "file_path = \"../data/Russian/llm.txt\"  # Replace with your file path\n",
    "parsed_data = parse_txt_file(file_path)\n",
    "\n",
    "# Evaluate the classifier\n",
    "evaluate_classifier(nb_model, vectorizer, parsed_data)\n"
   ],
   "id": "126ebb1bb0942ed9",
   "outputs": [
    {
     "name": "stdout",
     "output_type": "stream",
     "text": [
      "Accuracy: 0.22\n",
      "Classification Report:\n",
      "              precision    recall  f1-score   support\n",
      "\n",
      "   bulgakov        0.50      0.03      0.06       100\n",
      "    chekhov        0.00      0.00      0.00       100\n",
      "dostoevskiy        0.31      0.52      0.39       100\n",
      "      gorky        0.16      0.39      0.22       122\n",
      "    tolstoy        0.28      0.11      0.16       100\n",
      "\n",
      "    accuracy                           0.22       522\n",
      "   macro avg       0.25      0.21      0.16       522\n",
      "weighted avg       0.24      0.22      0.17       522\n",
      "\n"
     ]
    },
    {
     "name": "stderr",
     "output_type": "stream",
     "text": [
      "E:\\anaconda3\\Lib\\site-packages\\sklearn\\metrics\\_classification.py:1565: UndefinedMetricWarning: Precision is ill-defined and being set to 0.0 in labels with no predicted samples. Use `zero_division` parameter to control this behavior.\n",
      "  _warn_prf(average, modifier, f\"{metric.capitalize()} is\", len(result))\n",
      "E:\\anaconda3\\Lib\\site-packages\\sklearn\\metrics\\_classification.py:1565: UndefinedMetricWarning: Precision is ill-defined and being set to 0.0 in labels with no predicted samples. Use `zero_division` parameter to control this behavior.\n",
      "  _warn_prf(average, modifier, f\"{metric.capitalize()} is\", len(result))\n",
      "E:\\anaconda3\\Lib\\site-packages\\sklearn\\metrics\\_classification.py:1565: UndefinedMetricWarning: Precision is ill-defined and being set to 0.0 in labels with no predicted samples. Use `zero_division` parameter to control this behavior.\n",
      "  _warn_prf(average, modifier, f\"{metric.capitalize()} is\", len(result))\n"
     ]
    }
   ],
   "execution_count": 24
  }
 ],
 "metadata": {
  "kernelspec": {
   "display_name": "Python 3",
   "language": "python",
   "name": "python3"
  },
  "language_info": {
   "codemirror_mode": {
    "name": "ipython",
    "version": 2
   },
   "file_extension": ".py",
   "mimetype": "text/x-python",
   "name": "python",
   "nbconvert_exporter": "python",
   "pygments_lexer": "ipython2",
   "version": "2.7.6"
  }
 },
 "nbformat": 4,
 "nbformat_minor": 5
}
