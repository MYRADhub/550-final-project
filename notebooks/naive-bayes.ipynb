{
 "cells": [
  {
   "metadata": {
    "ExecuteTime": {
     "end_time": "2024-12-19T02:52:16.298094Z",
     "start_time": "2024-12-19T02:45:25.197337Z"
    }
   },
   "cell_type": "code",
   "source": [
    "from sklearn.feature_extraction.text import CountVectorizer\n",
    "from sklearn.model_selection import train_test_split\n",
    "from sklearn.naive_bayes import MultinomialNB\n",
    "from sklearn.metrics import classification_report, accuracy_score\n",
    "import pandas as pd\n",
    "import nltk\n",
    "\n",
    "nltk.download('averaged_perceptron_tagger')\n",
    "\n",
    "# Function to apply POS tagging\n",
    "def text_to_pos_features(text):\n",
    "    \"\"\"\n",
    "    Convert text to Part-of-Speech (POS) tagged representation.\n",
    "    Args:\n",
    "        text (str): Input text.\n",
    "    Returns:\n",
    "        str: POS-tagged text.\n",
    "    \"\"\"\n",
    "    tokens = text.split()\n",
    "    pos_tags = nltk.pos_tag(tokens)  # Generate POS tags\n",
    "    return \" \".join([f\"{word}_{tag}\" for word, tag in pos_tags])\n",
    "\n",
    "# Load and preprocess data\n",
    "def load_and_preprocess(data_path):\n",
    "    \"\"\"\n",
    "    Load the dataset and preprocess it.\n",
    "    Args:\n",
    "        data_path (str): Path to the dataset CSV file.\n",
    "    Returns:\n",
    "        pd.DataFrame: Preprocessed dataset.\n",
    "    \"\"\"\n",
    "    data = pd.read_csv(data_path)\n",
    "    return data\n",
    "\n",
    "# Load the data\n",
    "data_path = \"../data/Russian/author_data.csv\"  # Replace with your dataset\n",
    "data = load_and_preprocess(data_path)\n",
    "\n",
    "# Split data into training and test sets\n",
    "X = data['text']\n",
    "y = data['author']\n",
    "\n",
    "X_train, X_test, y_train, y_test = train_test_split(X, y, test_size=0.2, random_state=42, stratify=y)\n",
    "\n",
    "# Apply POS tagging to train and test sets\n",
    "X_train_pos = X_train.apply(text_to_pos_features)\n",
    "X_test_pos = X_test.apply(text_to_pos_features)\n",
    "\n",
    "# Vectorize POS-tagged text\n",
    "vectorizer = CountVectorizer(ngram_range=(1, 3))\n",
    "X_train_vec = vectorizer.fit_transform(X_train_pos)\n",
    "X_test_vec = vectorizer.transform(X_test_pos)\n",
    "\n",
    "# Train the Naive Bayes model\n",
    "nb_model = MultinomialNB(alpha=1.0)\n",
    "nb_model.fit(X_train_vec, y_train)\n",
    "\n",
    "# Evaluate the model\n",
    "y_pred = nb_model.predict(X_test_vec)\n",
    "accuracy = accuracy_score(y_test, y_pred)\n",
    "print(f\"Accuracy: {accuracy:.2f}\")\n",
    "\n",
    "# Detailed classification report\n",
    "report = classification_report(y_test, y_pred)\n",
    "print(\"Classification Report:\")\n",
    "print(report)\n"
   ],
   "id": "c7fab5d5fccd5830",
   "outputs": [
    {
     "name": "stderr",
     "output_type": "stream",
     "text": [
      "[nltk_data] Downloading package averaged_perceptron_tagger to\n",
      "[nltk_data]     C:\\Users\\ASUS\\AppData\\Roaming\\nltk_data...\n",
      "[nltk_data]   Package averaged_perceptron_tagger is already up-to-\n",
      "[nltk_data]       date!\n"
     ]
    },
    {
     "name": "stdout",
     "output_type": "stream",
     "text": [
      "Accuracy: 0.82\n",
      "Classification Report:\n",
      "              precision    recall  f1-score   support\n",
      "\n",
      "   bulgakov        0.99      0.68      0.80      2789\n",
      "    chekhov        0.99      0.45      0.62      2599\n",
      "dostoevskiy        0.65      0.99      0.79      4362\n",
      "      gorky        0.94      0.87      0.90      3285\n",
      "    tolstoy        0.88      0.93      0.90      4253\n",
      "\n",
      "    accuracy                           0.82     17288\n",
      "   macro avg       0.89      0.78      0.80     17288\n",
      "weighted avg       0.87      0.82      0.82     17288\n",
      "\n"
     ]
    }
   ],
   "execution_count": 3
  },
  {
   "metadata": {
    "ExecuteTime": {
     "end_time": "2024-12-19T02:53:17.653797Z",
     "start_time": "2024-12-19T02:53:16.841254Z"
    }
   },
   "cell_type": "code",
   "source": [
    "# save the model to disk\n",
    "import pickle\n",
    "filename = 'finalized_model.sav'\n",
    "pickle.dump(nb_model, open(filename, 'wb'))"
   ],
   "id": "75322a1d5b05d94d",
   "outputs": [],
   "execution_count": 4
  },
  {
   "metadata": {
    "ExecuteTime": {
     "end_time": "2024-12-19T03:01:25.460019Z",
     "start_time": "2024-12-19T03:01:25.444971Z"
    }
   },
   "cell_type": "code",
   "source": [
    "import numpy as np\n",
    "import random\n",
    "\n",
    "def generate_text_from_author(nb_model, vectorizer, author, max_len=50, temperature=1.0):\n",
    "    \"\"\"\n",
    "    Generate text in the style of a given author using a trained Naive Bayes classifier.\n",
    "    Args:\n",
    "        nb_model: Trained Naive Bayes model.\n",
    "        vectorizer: Fitted CountVectorizer.\n",
    "        author (str): Author whose style to mimic.\n",
    "        max_len (int): Maximum length of the generated text.\n",
    "        temperature (float): Sampling temperature to control randomness.\n",
    "    Returns:\n",
    "        str: Generated text.\n",
    "    \"\"\"\n",
    "    if author not in nb_model.classes_:\n",
    "        raise ValueError(f\"Author '{author}' not found in the trained model.\")\n",
    "\n",
    "    # Get the index of the author\n",
    "    author_index = np.where(nb_model.classes_ == author)[0][0]\n",
    "\n",
    "    # Extract the word probabilities for the given author\n",
    "    word_probs = np.exp(nb_model.feature_log_prob_[author_index])  # Convert log probabilities to probabilities\n",
    "    word_probs /= np.sum(word_probs)  # Normalize probabilities\n",
    "\n",
    "    # Vocabulary from the vectorizer\n",
    "    vocab = vectorizer.get_feature_names_out()\n",
    "\n",
    "    # Start with a random seed word\n",
    "    generated_text = [random.choice(vocab)]\n",
    "\n",
    "    for _ in range(max_len - 1):\n",
    "        # Adjust probabilities with temperature\n",
    "        adjusted_probs = word_probs ** (1 / temperature)\n",
    "        adjusted_probs /= np.sum(adjusted_probs)\n",
    "\n",
    "        # Sample the next word\n",
    "        next_word = np.random.choice(vocab, p=adjusted_probs)\n",
    "\n",
    "        # Append to the generated text\n",
    "        generated_text.append(next_word)\n",
    "\n",
    "    return \" \".join(generated_text)"
   ],
   "id": "9ff42725b55410b0",
   "outputs": [],
   "execution_count": 5
  },
  {
   "metadata": {
    "ExecuteTime": {
     "end_time": "2024-12-19T03:02:51.100104Z",
     "start_time": "2024-12-19T03:02:39.998619Z"
    }
   },
   "cell_type": "code",
   "source": [
    "target_author = \"tolstoy \"  # Replace with an actual author from your dataset\n",
    "generated_text = generate_text_from_author(nb_model, vectorizer, target_author, max_len=50, temperature=1.0)\n",
    "print(f\"Generated text in the style of {target_author}:\\n{generated_text}\")"
   ],
   "id": "6b45a3be9f50d224",
   "outputs": [
    {
     "name": "stdout",
     "output_type": "stream",
     "text": [
      "Generated text in the style of tolstoy :\n",
      "плаксиво _nnp влюбленный_nn время_nnp такое_nnp же_nnp весьма_nnp _nnp спину_nnp ход_nnp дел шерсть_jj и_nnp _nnp секретарь_nnp сидел_nnp нетрудно _nnp ибо_nnp рабы_nnp господа_nnp же _nnp закричал_nnp девушки _nnp все_nn _nnp нибудь_jj теперь_nnp онучи_nnp и_nnp лапти едва_nnp отъехал _jj мускулистой_nnp она_nnp прибирала_nnp на_nnp рассказывает_jj не_nnp взволноваться _nnp нам_nnp скучно сыграл_nnp трехактную_nnp рядами_nnp стулья_nnp с_nnp _nnp выронила_nnp на_nnp которой_nnp обратились_nnp дело_nnp сказала_nnp память _nnp помимо_nnp сделаем _nnp унизительным_nnp и_nnp от_vbd 1_cd декабря_nn изба_nnp завалиться_nnp хочет кременчугский_ 8_cd _vbd 2_cd могу_nnp тому _nnp что_nnp кроме_nnp я_nnp тогда_nnp ничего_nnp _nnp памяти_nn кто_nnp вам_nnp измокшее_nnp _nnp да_nnp оттого сделать_nnp _nnp долли_nnp дожидаясь_nnp обычных_nnp не_nnp захочешь_nnp _nnp крепко_nnp растирая_nnp что_nnp остров_nnp жены _nnp хрипя_nnp _nnp хуже\n"
     ]
    }
   ],
   "execution_count": 8
  }
 ],
 "metadata": {
  "kernelspec": {
   "display_name": "Python 3",
   "language": "python",
   "name": "python3"
  },
  "language_info": {
   "codemirror_mode": {
    "name": "ipython",
    "version": 2
   },
   "file_extension": ".py",
   "mimetype": "text/x-python",
   "name": "python",
   "nbconvert_exporter": "python",
   "pygments_lexer": "ipython2",
   "version": "2.7.6"
  }
 },
 "nbformat": 4,
 "nbformat_minor": 5
}
