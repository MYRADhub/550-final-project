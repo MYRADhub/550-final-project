{
 "cells": [
  {
   "cell_type": "code",
   "id": "initial_id",
   "metadata": {
    "collapsed": true,
    "ExecuteTime": {
     "end_time": "2024-12-19T01:41:40.261364Z",
     "start_time": "2024-12-19T01:41:37.706975Z"
    }
   },
   "source": "",
   "outputs": [],
   "execution_count": 1
  },
  {
   "metadata": {
    "ExecuteTime": {
     "end_time": "2024-12-19T02:52:16.298094Z",
     "start_time": "2024-12-19T02:45:25.197337Z"
    }
   },
   "cell_type": "code",
   "source": [
    "from sklearn.feature_extraction.text import CountVectorizer\n",
    "from sklearn.model_selection import train_test_split\n",
    "from sklearn.naive_bayes import MultinomialNB\n",
    "from sklearn.metrics import classification_report, accuracy_score\n",
    "import pandas as pd\n",
    "import nltk\n",
    "\n",
    "nltk.download('averaged_perceptron_tagger')\n",
    "\n",
    "# Function to apply POS tagging\n",
    "def text_to_pos_features(text):\n",
    "    \"\"\"\n",
    "    Convert text to Part-of-Speech (POS) tagged representation.\n",
    "    Args:\n",
    "        text (str): Input text.\n",
    "    Returns:\n",
    "        str: POS-tagged text.\n",
    "    \"\"\"\n",
    "    tokens = text.split()\n",
    "    pos_tags = nltk.pos_tag(tokens)  # Generate POS tags\n",
    "    return \" \".join([f\"{word}_{tag}\" for word, tag in pos_tags])\n",
    "\n",
    "# Load and preprocess data\n",
    "def load_and_preprocess(data_path):\n",
    "    \"\"\"\n",
    "    Load the dataset and preprocess it.\n",
    "    Args:\n",
    "        data_path (str): Path to the dataset CSV file.\n",
    "    Returns:\n",
    "        pd.DataFrame: Preprocessed dataset.\n",
    "    \"\"\"\n",
    "    data = pd.read_csv(data_path)\n",
    "    return data\n",
    "\n",
    "# Load the data\n",
    "data_path = \"../data/Russian/author_data.csv\"  # Replace with your dataset\n",
    "data = load_and_preprocess(data_path)\n",
    "\n",
    "# Split data into training and test sets\n",
    "X = data['text']\n",
    "y = data['author']\n",
    "\n",
    "X_train, X_test, y_train, y_test = train_test_split(X, y, test_size=0.2, random_state=42, stratify=y)\n",
    "\n",
    "# Apply POS tagging to train and test sets\n",
    "X_train_pos = X_train.apply(text_to_pos_features)\n",
    "X_test_pos = X_test.apply(text_to_pos_features)\n",
    "\n",
    "# Vectorize POS-tagged text\n",
    "vectorizer = CountVectorizer(ngram_range=(1, 3))\n",
    "X_train_vec = vectorizer.fit_transform(X_train_pos)\n",
    "X_test_vec = vectorizer.transform(X_test_pos)\n",
    "\n",
    "# Train the Naive Bayes model\n",
    "nb_model = MultinomialNB(alpha=1.0)\n",
    "nb_model.fit(X_train_vec, y_train)\n",
    "\n",
    "# Evaluate the model\n",
    "y_pred = nb_model.predict(X_test_vec)\n",
    "accuracy = accuracy_score(y_test, y_pred)\n",
    "print(f\"Accuracy: {accuracy:.2f}\")\n",
    "\n",
    "# Detailed classification report\n",
    "report = classification_report(y_test, y_pred)\n",
    "print(\"Classification Report:\")\n",
    "print(report)\n"
   ],
   "id": "c7fab5d5fccd5830",
   "outputs": [
    {
     "name": "stderr",
     "output_type": "stream",
     "text": [
      "[nltk_data] Downloading package averaged_perceptron_tagger to\n",
      "[nltk_data]     C:\\Users\\ASUS\\AppData\\Roaming\\nltk_data...\n",
      "[nltk_data]   Package averaged_perceptron_tagger is already up-to-\n",
      "[nltk_data]       date!\n"
     ]
    },
    {
     "name": "stdout",
     "output_type": "stream",
     "text": [
      "Accuracy: 0.82\n",
      "Classification Report:\n",
      "              precision    recall  f1-score   support\n",
      "\n",
      "   bulgakov        0.99      0.68      0.80      2789\n",
      "    chekhov        0.99      0.45      0.62      2599\n",
      "dostoevskiy        0.65      0.99      0.79      4362\n",
      "      gorky        0.94      0.87      0.90      3285\n",
      "    tolstoy        0.88      0.93      0.90      4253\n",
      "\n",
      "    accuracy                           0.82     17288\n",
      "   macro avg       0.89      0.78      0.80     17288\n",
      "weighted avg       0.87      0.82      0.82     17288\n",
      "\n"
     ]
    }
   ],
   "execution_count": 3
  },
  {
   "metadata": {
    "ExecuteTime": {
     "end_time": "2024-12-19T02:53:17.653797Z",
     "start_time": "2024-12-19T02:53:16.841254Z"
    }
   },
   "cell_type": "code",
   "source": [
    "# save the model to disk\n",
    "import pickle\n",
    "filename = 'finalized_model.sav'\n",
    "pickle.dump(nb_model, open(filename, 'wb'))"
   ],
   "id": "75322a1d5b05d94d",
   "outputs": [],
   "execution_count": 4
  },
  {
   "metadata": {},
   "cell_type": "code",
   "outputs": [],
   "execution_count": null,
   "source": "",
   "id": "9ff42725b55410b0"
  }
 ],
 "metadata": {
  "kernelspec": {
   "display_name": "Python 3",
   "language": "python",
   "name": "python3"
  },
  "language_info": {
   "codemirror_mode": {
    "name": "ipython",
    "version": 2
   },
   "file_extension": ".py",
   "mimetype": "text/x-python",
   "name": "python",
   "nbconvert_exporter": "python",
   "pygments_lexer": "ipython2",
   "version": "2.7.6"
  }
 },
 "nbformat": 4,
 "nbformat_minor": 5
}
